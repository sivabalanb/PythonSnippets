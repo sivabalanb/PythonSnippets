{
 "cells": [
  {
   "cell_type": "code",
   "execution_count": 5,
   "metadata": {},
   "outputs": [
    {
     "data": {
      "text/plain": [
       "(2012, 12, 21)"
      ]
     },
     "execution_count": 5,
     "metadata": {},
     "output_type": "execute_result"
    }
   ],
   "source": [
    "data = [ 'ACME', 50, 91.1, (2012, 12, 21) ]\n",
    "name, shares, price, date = data\n",
    "date"
   ]
  },
  {
   "cell_type": "code",
   "execution_count": 10,
   "metadata": {},
   "outputs": [
    {
     "data": {
      "text/plain": [
       "21"
      ]
     },
     "execution_count": 10,
     "metadata": {},
     "output_type": "execute_result"
    }
   ],
   "source": [
    "data = [ 'ACME', 50, 91.1, (2012, 12, 21) ]\n",
    "name, shares, price, (year, mon, day) = data\n",
    "day"
   ]
  },
  {
   "cell_type": "code",
   "execution_count": 14,
   "metadata": {},
   "outputs": [
    {
     "name": "stdout",
     "output_type": "stream",
     "text": [
      "current - 3 Trailing - [10, 8, 7, 1, 9, 5, 10]\n"
     ]
    }
   ],
   "source": [
    "*trailing, current = [10, 8, 7, 1, 9, 5, 10, 3]\n",
    "print(f\"current - {current} Trailing - {trailing}\")"
   ]
  },
  {
   "cell_type": "code",
   "execution_count": 19,
   "metadata": {},
   "outputs": [
    {
     "name": "stdout",
     "output_type": "stream",
     "text": [
      "Initialize dequeue  deque([1, 2, 3])\n",
      "dequeue pop deque([0, 1, 2])\n",
      "deque([1, 2])\n",
      "1\n"
     ]
    }
   ],
   "source": [
    "#deque - Double-Ended Queue\n",
    "from collections import deque\n",
    "\n",
    "# Create a deque\n",
    "my_deque = deque()\n",
    "\n",
    "# Add elements to the deque (at the right end)\n",
    "my_deque.append(1)\n",
    "my_deque.append(2)\n",
    "my_deque.append(3)\n",
    "print(f\"Initialize dequeue  {my_deque}\")\n",
    "# Add elements to the left end of the deque\n",
    "my_deque.appendleft(0)\n",
    "\n",
    "# Remove elements from the right end of the deque\n",
    "my_deque.pop()\n",
    "print(f\"dequeue pop {my_deque}\")\n",
    "# Remove elements from the left end of the deque\n",
    "my_deque.popleft()\n",
    "print(my_deque)\n",
    "# Access elements\n",
    "print(my_deque[0])  # Outputs: 2\n"
   ]
  },
  {
   "cell_type": "code",
   "execution_count": 22,
   "metadata": {},
   "outputs": [
    {
     "data": {
      "text/plain": [
       "1"
      ]
     },
     "execution_count": 22,
     "metadata": {},
     "output_type": "execute_result"
    }
   ],
   "source": [
    "#Heapq\n",
    "import heapq\n",
    "\n",
    "# Create an empty list\n",
    "my_heap = []\n",
    "\n",
    "# Add elements to the heap\n",
    "heapq.heappush(my_heap, 3)\n",
    "heapq.heappush(my_heap, 1)\n",
    "heapq.heappush(my_heap, 2)\n",
    "\n",
    "# Access the smallest element (without removing it)\n",
    "smallest = my_heap[0]  # The smallest element is 1\n",
    "\n",
    "# Remove and return the smallest element\n",
    "smallest = heapq.heappop(my_heap)  # Removes and returns 1\n",
    "\n",
    "# You can also convert an existing list into a heap in-place\n",
    "my_list = [5, 3, 1, 4, 2]\n",
    "heapq.heapify(my_list)\n",
    "\n",
    "# Access the smallest element (without removing it)\n",
    "smallest = my_list[0]  # The smallest element is 1\n",
    "smallest"
   ]
  },
  {
   "cell_type": "code",
   "execution_count": null,
   "metadata": {},
   "outputs": [],
   "source": []
  }
 ],
 "metadata": {
  "kernelspec": {
   "display_name": "Python 3",
   "language": "python",
   "name": "python3"
  },
  "language_info": {
   "codemirror_mode": {
    "name": "ipython",
    "version": 3
   },
   "file_extension": ".py",
   "mimetype": "text/x-python",
   "name": "python",
   "nbconvert_exporter": "python",
   "pygments_lexer": "ipython3",
   "version": "3.11.5"
  },
  "orig_nbformat": 4
 },
 "nbformat": 4,
 "nbformat_minor": 2
}
