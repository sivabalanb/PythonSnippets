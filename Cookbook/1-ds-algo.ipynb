{
 "cells": [
  {
   "cell_type": "code",
   "execution_count": 5,
   "metadata": {},
   "outputs": [
    {
     "data": {
      "text/plain": [
       "(2012, 12, 21)"
      ]
     },
     "execution_count": 5,
     "metadata": {},
     "output_type": "execute_result"
    }
   ],
   "source": [
    "data = [ 'ACME', 50, 91.1, (2012, 12, 21) ]\n",
    "name, shares, price, date = data\n",
    "date"
   ]
  },
  {
   "cell_type": "code",
   "execution_count": 10,
   "metadata": {},
   "outputs": [
    {
     "data": {
      "text/plain": [
       "21"
      ]
     },
     "execution_count": 10,
     "metadata": {},
     "output_type": "execute_result"
    }
   ],
   "source": [
    "data = [ 'ACME', 50, 91.1, (2012, 12, 21) ]\n",
    "name, shares, price, (year, mon, day) = data\n",
    "day"
   ]
  },
  {
   "cell_type": "code",
   "execution_count": 14,
   "metadata": {},
   "outputs": [
    {
     "name": "stdout",
     "output_type": "stream",
     "text": [
      "current - 3 Trailing - [10, 8, 7, 1, 9, 5, 10]\n"
     ]
    }
   ],
   "source": [
    "*trailing, current = [10, 8, 7, 1, 9, 5, 10, 3]\n",
    "print(f\"current - {current} Trailing - {trailing}\")"
   ]
  },
  {
   "cell_type": "code",
   "execution_count": 19,
   "metadata": {},
   "outputs": [
    {
     "name": "stdout",
     "output_type": "stream",
     "text": [
      "Initialize dequeue  deque([1, 2, 3])\n",
      "dequeue pop deque([0, 1, 2])\n",
      "deque([1, 2])\n",
      "1\n"
     ]
    }
   ],
   "source": [
    "#deque - Double-Ended Queue\n",
    "from collections import deque\n",
    "\n",
    "# Create a deque\n",
    "my_deque = deque()\n",
    "\n",
    "# Add elements to the deque (at the right end)\n",
    "my_deque.append(1)\n",
    "my_deque.append(2)\n",
    "my_deque.append(3)\n",
    "print(f\"Initialize dequeue  {my_deque}\")\n",
    "# Add elements to the left end of the deque\n",
    "my_deque.appendleft(0)\n",
    "\n",
    "# Remove elements from the right end of the deque\n",
    "my_deque.pop()\n",
    "print(f\"dequeue pop {my_deque}\")\n",
    "# Remove elements from the left end of the deque\n",
    "my_deque.popleft()\n",
    "print(my_deque)\n",
    "# Access elements\n",
    "print(my_deque[0])  # Outputs: 2\n"
   ]
  },
  {
   "cell_type": "code",
   "execution_count": 23,
   "metadata": {},
   "outputs": [
    {
     "data": {
      "text/plain": [
       "1"
      ]
     },
     "execution_count": 23,
     "metadata": {},
     "output_type": "execute_result"
    }
   ],
   "source": [
    "#Heapq\n",
    "import heapq\n",
    "\n",
    "# Create an empty list\n",
    "my_heap = []\n",
    "\n",
    "# Add elements to the heap\n",
    "heapq.heappush(my_heap, 3)\n",
    "heapq.heappush(my_heap, 1)\n",
    "heapq.heappush(my_heap, 2)\n",
    "\n",
    "# Access the smallest element (without removing it)\n",
    "smallest = my_heap[0]  # The smallest element is 1\n",
    "\n",
    "# Remove and return the smallest element\n",
    "smallest = heapq.heappop(my_heap)  # Removes and returns 1\n",
    "\n",
    "# You can also convert an existing list into a heap in-place\n",
    "my_list = [5, 3, 1, 4, 2]\n",
    "heapq.heapify(my_list)\n",
    "\n",
    "# Access the smallest element (without removing it)\n",
    "smallest = my_list[0]  # The smallest element is 1\n",
    "smallest"
   ]
  },
  {
   "cell_type": "code",
   "execution_count": 32,
   "metadata": {},
   "outputs": [
    {
     "name": "stdout",
     "output_type": "stream",
     "text": [
      "my_dict - defaultdict(<function <lambda> at 0x0000018087C85B20>, {})\n",
      "0\n",
      "defaultdict(<class 'int'>, {'h': 1, 'e': 1, 'l': 2, 'o': 1})\n",
      "Initial word_group defaultdict(<class 'list'>, {})\n",
      "{5: ['apple'], 6: ['banana', 'cherry'], 4: ['date'], 10: ['elderberry']}\n"
     ]
    }
   ],
   "source": [
    "#defaultdict\n",
    "from collections import defaultdict\n",
    "\n",
    "# Create a defaultdict with an int factory (default value for missing keys is 0)\n",
    "my_dict = defaultdict(lambda: 0)\n",
    "print(f\"my_dict - {my_dict}\")\n",
    "# Accessing a nonexistent key won't raise a KeyError\n",
    "print(my_dict['nonexistent_key'])  # Output: 0\n",
    "\n",
    "#Counting occurences\n",
    "from collections import defaultdict\n",
    "\n",
    "# Count the occurrences of each character in a string\n",
    "text = \"hello\"\n",
    "char_count = defaultdict(int)\n",
    "for char in text:\n",
    "    char_count[char] += 1\n",
    "\n",
    "print(char_count)  # Output: defaultdict(<class 'int'>, {'h': 1, 'e': 1, 'l': 2, 'o': 1})\n",
    "\n",
    "from collections import defaultdict\n",
    "\n",
    "# Grouping items by their lengths\n",
    "words = [\"apple\", \"banana\", \"cherry\", \"date\", \"elderberry\"]\n",
    "word_groups = defaultdict(list)\n",
    "print(f\"Initial word_group {word_groups}\")\n",
    "for word in words:\n",
    "    word_groups[len(word)].append(word)\n",
    "\n",
    "print(dict(word_groups))  # Output: {5: ['apple', 'date'], 6: ['banana', 'cherry'], 10: ['elderberry']}\n",
    "\n"
   ]
  },
  {
   "cell_type": "code",
   "execution_count": 37,
   "metadata": {},
   "outputs": [
    {
     "name": "stdout",
     "output_type": "stream",
     "text": [
      "Unknown\n",
      " Fruint inventory defaultdict(<function <lambda> at 0x0000018087C858A0>, {'apples': [10, 8], 'bananas': [5]})\n",
      "[]\n",
      "[12]\n",
      "set()\n",
      "{'rice'}\n"
     ]
    }
   ],
   "source": [
    "#default dict with lambda\n",
    "from collections import defaultdict\n",
    "\n",
    "# Create a defaultdict with a lambda for default values\n",
    "person_info = defaultdict(lambda: 'Unknown')\n",
    "\n",
    "# Add information for two people\n",
    "person_info['Alice'] = {'age': 30, 'city': 'New York'}\n",
    "person_info['Bob'] = {'age': 25}\n",
    "\n",
    "# Accessing a missing key returns the default value 'Unknown'\n",
    "print(person_info['Eve'])  # Output: 'Unknown'\n",
    "\n",
    "from collections import defaultdict\n",
    "\n",
    "# Create a defaultdict with a lambda for a default list\n",
    "fruit_inventory = defaultdict(lambda: [])\n",
    "\n",
    "# Add items to the inventory\n",
    "fruit_inventory['apples'].append(10)\n",
    "fruit_inventory['bananas'].append(5)\n",
    "fruit_inventory['apples'].append(8)\n",
    "print(f\" Fruint inventory {fruit_inventory}\")\n",
    "# Accessing a missing key returns an empty list\n",
    "print(fruit_inventory['cherries'])  # Output: []\n",
    "\n",
    "# You can continue appending to the list for existing keys\n",
    "fruit_inventory['cherries'].append(12)\n",
    "print(fruit_inventory['cherries'])  # Output: [12]\n",
    "\n",
    "from collections import defaultdict\n",
    "\n",
    "# Create a defaultdict with a lambda for a default set\n",
    "categories = defaultdict(lambda: set())\n",
    "\n",
    "# Assign items to categories\n",
    "categories['fruits'].add('apple')\n",
    "categories['fruits'].add('banana')\n",
    "categories['vegetables'].add('carrot')\n",
    "\n",
    "# Accessing a missing key returns an empty set\n",
    "print(categories['grains'])  # Output: set()\n",
    "\n",
    "# You can continue adding items to the set for existing keys\n",
    "categories['grains'].add('rice')\n",
    "print(categories['grains'])  # Output: {'rice'}\n",
    "\n"
   ]
  },
  {
   "cell_type": "code",
   "execution_count": null,
   "metadata": {},
   "outputs": [],
   "source": []
  }
 ],
 "metadata": {
  "kernelspec": {
   "display_name": "Python 3",
   "language": "python",
   "name": "python3"
  },
  "language_info": {
   "codemirror_mode": {
    "name": "ipython",
    "version": 3
   },
   "file_extension": ".py",
   "mimetype": "text/x-python",
   "name": "python",
   "nbconvert_exporter": "python",
   "pygments_lexer": "ipython3",
   "version": "3.11.5"
  },
  "orig_nbformat": 4
 },
 "nbformat": 4,
 "nbformat_minor": 2
}
