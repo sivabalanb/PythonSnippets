{
 "cells": [
  {
   "cell_type": "code",
   "execution_count": 3,
   "metadata": {},
   "outputs": [],
   "source": [
    "import pandas\n",
    "df = pandas.read_csv(\"pattaya_price_tracker.csv\")  # Read the file\n",
    "df2 = df.transpose()\n"
   ]
  },
  {
   "cell_type": "code",
   "execution_count": 4,
   "metadata": {},
   "outputs": [
    {
     "name": "stdout",
     "output_type": "stream",
     "text": [
      "                                       0      1\n",
      "Mercure Pattaya                     3029   9675\n",
      "Mytt Beach Hotel, Pattaya           7736   3036\n",
      "The Heritage Pattaya Beach Resort   7886   7906\n",
      "Ibis Pattaya                        2631   8238\n",
      "Hilton Pattaya                     13190  13197\n",
      "Holiday Inn Pattaya                 8228   5353\n",
      "InterContinental Pattaya Resort     8199   8673\n",
      "Dusit Thani Pattaya                 7816   3739\n",
      "Mercure Pattaya Ocean Resort        5344   2689\n",
      "Grande Centre Point Pattaya         8668   8144\n",
      "Pattaya Seaview Hotel               3524   7751\n"
     ]
    }
   ],
   "source": [
    "print(df2)"
   ]
  },
  {
   "cell_type": "code",
   "execution_count": 5,
   "metadata": {},
   "outputs": [],
   "source": [
    "df2.to_csv('transpose.csv')"
   ]
  },
  {
   "cell_type": "code",
   "execution_count": null,
   "metadata": {},
   "outputs": [],
   "source": []
  },
  {
   "cell_type": "code",
   "execution_count": null,
   "metadata": {},
   "outputs": [],
   "source": []
  },
  {
   "cell_type": "code",
   "execution_count": null,
   "metadata": {},
   "outputs": [],
   "source": []
  },
  {
   "cell_type": "code",
   "execution_count": null,
   "metadata": {},
   "outputs": [],
   "source": []
  }
 ],
 "metadata": {
  "kernelspec": {
   "display_name": "Python 3",
   "language": "python",
   "name": "python3"
  },
  "language_info": {
   "codemirror_mode": {
    "name": "ipython",
    "version": 3
   },
   "file_extension": ".py",
   "mimetype": "text/x-python",
   "name": "python",
   "nbconvert_exporter": "python",
   "pygments_lexer": "ipython3",
   "version": "3.7.1"
  }
 },
 "nbformat": 4,
 "nbformat_minor": 2
}
